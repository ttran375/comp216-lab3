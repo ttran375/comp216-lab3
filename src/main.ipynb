{
 "cells": [
  {
   "cell_type": "markdown",
   "metadata": {},
   "source": [
    "# Lecture 3"
   ]
  },
  {
   "cell_type": "markdown",
   "metadata": {},
   "source": [
    "## Question 1\n",
    "\n",
    "A user profile class was introduced into an application\n",
    "based on the following definition:\n",
    "\n",
    "```python\n",
    "class User:\n",
    "    registered_user_count = 0\n",
    "\n",
    "    def __init__(self, first_name, last_name, age, postal_code):\n",
    "        self.first_name = first_name\n",
    "        self.last_name = last_name\n",
    "        self.age = age\n",
    "        self.postal_code = postal_code\n",
    "\n",
    "    def registered(self, status):\n",
    "        self.registered = status\n",
    "        User.registered_user_count += 1\n",
    "```\n",
    "\n",
    "Update the relevant methods to ensure:\n",
    "\n",
    "-   The first_name and last_name attributes are supplied as strings that\n",
    "    only contain alphabetical characters. If not, raise a Value Error.\n",
    "\n",
    "-   The age attribute is supplied as an integer and the age \\> 13. If\n",
    "    not, raise a Value Error.\n",
    "\n",
    "-   The postal_code attribute is supplied as that only contains\n",
    "    alphanumerical characters. If not, raise a Value Error and\n",
    "    auto-populate the attribute with the value: ‘X0X0X0’."
   ]
  },
  {
   "cell_type": "code",
   "execution_count": 19,
   "metadata": {},
   "outputs": [
    {
     "name": "stdout",
     "output_type": "stream",
     "text": [
      "Registered users: 1\n",
      "Registered users: 2\n",
      "Age must be an integer greater than 13.\n"
     ]
    }
   ],
   "source": [
    "class User:\n",
    "    registered_user_count = 0\n",
    "\n",
    "    def __init__(self, first_name, last_name, age, postal_code):\n",
    "        if not first_name.isalpha():\n",
    "            raise ValueError(\"First name must only contain alphabetical characters.\")\n",
    "        if not last_name.isalpha():\n",
    "            raise ValueError(\"Last name must only contain alphabetical characters.\")\n",
    "        if not isinstance(age, int) or age <= 13:\n",
    "            raise ValueError(\"Age must be an integer greater than 13.\")\n",
    "        if not postal_code.isalnum():\n",
    "            postal_code = 'X0X0X0'\n",
    "        \n",
    "        self.first_name = first_name\n",
    "        self.last_name = last_name\n",
    "        self.age = age\n",
    "        self.postal_code = postal_code\n",
    "\n",
    "    def registered(self, status):\n",
    "        self.registered = status\n",
    "        User.registered_user_count += 1\n",
    "\n",
    "\n",
    "def main():\n",
    "    try:\n",
    "        user1 = User(\"John\", \"Doe\", 14, \"A1B2C3\")\n",
    "        user1.registered(True)\n",
    "        print(f\"Registered users: {User.registered_user_count}\")\n",
    "        \n",
    "        user2 = User(\"Jane\", \"Smith\", 15, \"123456\")\n",
    "        user2.registered(True)\n",
    "        print(f\"Registered users: {User.registered_user_count}\")\n",
    "\n",
    "        user3 = User(\"Alice\", \"Cooper\", 12, \"D4E5F6\")  # This will raise an error\n",
    "    except ValueError as e:\n",
    "        print(e)\n",
    "\n",
    "if __name__ == \"__main__\":\n",
    "    main()"
   ]
  },
  {
   "cell_type": "markdown",
   "metadata": {},
   "source": [
    "## Question 2\n",
    "\n",
    "Use the following list of tuples that contains and scores of\n",
    "students.\n",
    "\n",
    "```python\n",
    "students_scores = [\n",
    "    (\"Alice James\", 85),\n",
    "    (\"Adam Bonson\", 90),\n",
    "    (\"Matt Fowler\", 78),\n",
    "    (\"David Curry\", 92),\n",
    "    (\"Eva Porter\", 80),\n",
    "    (\"Azure Kelsey\", 79),\n",
    "    (\"Billie Jose\", 64),\n",
    "    (\"Willian Maxime\", 86),\n",
    "]\n",
    "```\n",
    "\n",
    "Create a dictionary that includes high achieving (or honour) students\n",
    "represented as key-value pairs:\n",
    "\n",
    "-   Keys must only include the first initial of the first name and full\n",
    "    last name\n",
    "\n",
    "-   Values must only include scores that are 80% and higher\n",
    "\n",
    "The expected output is the following:\n",
    "\n",
    "```python\n",
    "honour_students = {\n",
    "    \"A. James\": 85,\n",
    "    \"A. Bonson\": 90,\n",
    "    \"D. Curry\": 92,\n",
    "    \"E. Porter\": 80,\n",
    "    \"W. Maxime\": 86,\n",
    "}\n",
    "```"
   ]
  },
  {
   "cell_type": "code",
   "execution_count": 20,
   "metadata": {},
   "outputs": [
    {
     "name": "stdout",
     "output_type": "stream",
     "text": [
      "{'A. James': 85, 'A. Bonson': 90, 'D. Curry': 92, 'E. Porter': 80, 'W. Maxime': 86}\n"
     ]
    }
   ],
   "source": [
    "students_scores = [\n",
    "    (\"Alice James\", 85),\n",
    "    (\"Adam Bonson\", 90),\n",
    "    (\"Matt Fowler\", 78),\n",
    "    (\"David Curry\", 92),\n",
    "    (\"Eva Porter\", 80),\n",
    "    (\"Azure Kelsey\", 79),\n",
    "    (\"Billie Jose\", 64),\n",
    "    (\"Willian Maxime\", 86),\n",
    "]\n",
    "\n",
    "honour_students = {\n",
    "    f\"{name.split()[0][0]}. {name.split()[1]}\": score\n",
    "    for name, score in students_scores\n",
    "    if score >= 80\n",
    "}\n",
    "\n",
    "print(honour_students)"
   ]
  },
  {
   "cell_type": "markdown",
   "metadata": {},
   "source": [
    "## Question 3\n",
    "\n",
    "Given the range object (below), create a single line\n",
    "statement that utilizes a map(), filter() and lambda functions to\n",
    "achieve the following:\n",
    "\n",
    "-   Filter the list to include only the even numbers.\n",
    "\n",
    "-   Square each of the filtered even numbers.\n",
    "\n",
    "Use the following as the input: `numbers = range(1, 75, 3)`.\n",
    "\n",
    "Afterwards, implement the same logic utilizing for loops and compare the\n",
    "difference in the compute time between the two approaches."
   ]
  },
  {
   "cell_type": "code",
   "execution_count": 21,
   "metadata": {},
   "outputs": [],
   "source": [
    "numbers = range(1, 75, 3)\n",
    "result = list(map(lambda x: x**2, filter(lambda x: x % 2 == 0, numbers)))"
   ]
  },
  {
   "cell_type": "code",
   "execution_count": 22,
   "metadata": {},
   "outputs": [],
   "source": [
    "numbers = range(1, 75, 3)\n",
    "filtered_squares = []\n",
    "for number in numbers:\n",
    "    if number % 2 == 0:\n",
    "        filtered_squares.append(number**2)"
   ]
  },
  {
   "cell_type": "code",
   "execution_count": 23,
   "metadata": {},
   "outputs": [
    {
     "name": "stdout",
     "output_type": "stream",
     "text": [
      "Result using map, filter, and lambda: [16, 100, 256, 484, 784, 1156, 1600, 2116, 2704, 3364, 4096, 4900]\n",
      "Compute time using map, filter, and lambda: 9.1552734375e-05\n",
      "Result using for loops: [16, 100, 256, 484, 784, 1156, 1600, 2116, 2704, 3364, 4096, 4900]\n",
      "Compute time using for loops: 8.130073547363281e-05\n"
     ]
    }
   ],
   "source": [
    "import time\n",
    "\n",
    "# Using map, filter, and lambda\n",
    "start_time = time.time()\n",
    "result_map_filter = list(map(lambda x: x**2, filter(lambda x: x % 2 == 0, numbers)))\n",
    "end_time = time.time()\n",
    "time_map_filter = end_time - start_time\n",
    "\n",
    "# Using for loops\n",
    "start_time = time.time()\n",
    "filtered_squares_loop = []\n",
    "for number in numbers:\n",
    "    if number % 2 == 0:\n",
    "        filtered_squares_loop.append(number**2)\n",
    "end_time = time.time()\n",
    "time_for_loops = end_time - start_time\n",
    "\n",
    "# Print results and compute times\n",
    "print(\"Result using map, filter, and lambda:\", result_map_filter)\n",
    "print(\"Compute time using map, filter, and lambda:\", time_map_filter)\n",
    "\n",
    "print(\"Result using for loops:\", filtered_squares_loop)\n",
    "print(\"Compute time using for loops:\", time_for_loops)"
   ]
  }
 ],
 "metadata": {
  "kernelspec": {
   "display_name": "Python 3",
   "language": "python",
   "name": "python3"
  },
  "language_info": {
   "codemirror_mode": {
    "name": "ipython",
    "version": 3
   },
   "file_extension": ".py",
   "mimetype": "text/x-python",
   "name": "python",
   "nbconvert_exporter": "python",
   "pygments_lexer": "ipython3",
   "version": "3.10.13"
  }
 },
 "nbformat": 4,
 "nbformat_minor": 2
}
